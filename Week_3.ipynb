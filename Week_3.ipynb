{
  "nbformat": 4,
  "nbformat_minor": 0,
  "metadata": {
    "colab": {
      "provenance": [],
      "toc_visible": true,
      "authorship_tag": "ABX9TyP8MmNZtsp+X5ZnIbGlLDYk",
      "include_colab_link": true
    },
    "kernelspec": {
      "name": "python3",
      "display_name": "Python 3"
    },
    "language_info": {
      "name": "python"
    }
  },
  "cells": [
    {
      "cell_type": "markdown",
      "metadata": {
        "id": "view-in-github",
        "colab_type": "text"
      },
      "source": [
        "<a href=\"https://colab.research.google.com/github/cicaco07/PCVK-2023/blob/main/Week_3.ipynb\" target=\"_parent\"><img src=\"https://colab.research.google.com/assets/colab-badge.svg\" alt=\"Open In Colab\"/></a>"
      ]
    },
    {
      "cell_type": "markdown",
      "source": [
        "###Nama : Aryo Deva Saputra\n",
        "###Kelas / No : 3D / 08\n",
        "###NIM : 2141720176"
      ],
      "metadata": {
        "id": "oTcTDymSyZ5w"
      }
    },
    {
      "cell_type": "code",
      "execution_count": 3,
      "metadata": {
        "colab": {
          "base_uri": "https://localhost:8080/"
        },
        "id": "6qQ4T3pKxrNK",
        "outputId": "d9ce1010-59d0-45d2-be24-e6be8b32bd0e"
      },
      "outputs": [
        {
          "output_type": "stream",
          "name": "stdout",
          "text": [
            "Mounted at /content/drive\n"
          ]
        }
      ],
      "source": [
        "from google.colab import drive\n",
        "\n",
        "drive.mount('/content/drive')"
      ]
    },
    {
      "cell_type": "markdown",
      "source": [
        "####Transformasi Linier Brightness"
      ],
      "metadata": {
        "id": "VjjifsnrzFUY"
      }
    },
    {
      "cell_type": "code",
      "source": [
        "import cv2 as cv\n",
        "from google.colab.patches import cv2_imshow\n",
        "from skimage import io\n",
        "import matplotlib.pyplot as plt\n",
        "import numpy as np\n",
        "\n",
        "print('Mengubah  tingkat kecerahan citra')\n",
        "print('---------------------------------')\n",
        "\n",
        "try:\n",
        "  brightness = int(input('Masukkan nilai kecerahan: '))\n",
        "except ValueError:\n",
        "  print('Error, not a number')\n",
        "\n",
        "original = cv.imread('/content/drive/MyDrive/PCVK/female.tiff')\n",
        "brightness_image = np.zeros(original.shape, original.dtype)\n",
        "\n",
        "for y in range(original.shape[0]):\n",
        "  for x in range(original.shape[1]):\n",
        "    for c in range(original.shape[2]):\n",
        "      brightness_image[y,x,c] = np.clip(original[y,x,c] + brightness, 0, 255)\n",
        "\n",
        "final_frame = cv.hconcat((original, brightness_image))\n",
        "cv2_imshow(final_frame)"
      ],
      "metadata": {
        "colab": {
          "base_uri": "https://localhost:8080/"
        },
        "id": "U-Lfloe_zKx_",
        "outputId": "fd453c95-8ce7-448d-a570-5df746cbf099"
      },
      "execution_count": null,
      "outputs": [
        {
          "output_type": "stream",
          "name": "stdout",
          "text": [
            "Mengubah  tingkat kecerahan citra\n",
            "---------------------------------\n"
          ]
        }
      ]
    },
    {
      "cell_type": "markdown",
      "source": [
        "####Tugas Praktikum\n",
        "1. Implementasikan inverse citra pada Google Colaboratory menggunakan formula yang terdapat pada bagian Ulasan Teori, sehingga menghasilkan keluaran seperti berikut:\n",
        "2. Implementasikan transformasi contrast pada Google Colaboratory menggunakan formula yang terdapat pada bagian Ulasan Teori untuk kontras, sehingg menghasilkan keluaran seperti berikut:\n",
        "3. Implementasikan transformasi logarithmic brightness pada Google Colaboratory menggunakan formula yang terdapat pada bagian Ulasan Teori untuk transformasi log, sehingga menghasilkan keluaran seperti berikut:\n",
        "4. Implementasikan transformasi grayscale menggunakan metode averaging, lightness, dan luminance pada Google Colaboratory menggunakan formula yang terdapat pada bagian Ulasan Teori, sehingga menghasilkan keluaran seperti berikut:\n",
        "a. Averaging\n",
        "b. Lightness\n",
        "c. Luminance\n",
        "5. Tampilkanlah warna tertentu pada citra, dan ubah warna lain menjadi grayscale. Misal, tampilkan warna biru pada citra masukan dan ubah bagian lain yang tidak berwarna biru menjadi grayscale seperti pada contoh berikut:"
      ],
      "metadata": {
        "id": "cNILZyzM1oHF"
      }
    },
    {
      "cell_type": "code",
      "source": [
        "###1\n",
        "\n",
        "import cv2 as cv\n",
        "from google.colab.patches import cv2_imshow\n",
        "from skimage import io\n",
        "import matplotlib.pyplot as plt\n",
        "import numpy as np\n",
        "\n",
        "image = cv.imread('/content/drive/MyDrive/PCVK/KTP.jpeg')\n",
        "\n",
        "inverted_image = 255 - image\n",
        "\n",
        "final_frame = cv.hconcat((image, inverted_image))\n",
        "cv2_imshow(final_frame)"
      ],
      "metadata": {
        "id": "rPyGvka32R2f"
      },
      "execution_count": null,
      "outputs": []
    },
    {
      "cell_type": "code",
      "source": [
        "###2\n",
        "\n",
        "import cv2 as cv\n",
        "from google.colab.patches import cv2_imshow\n",
        "from skimage import io\n",
        "import matplotlib.pyplot as plt\n",
        "import numpy as np\n",
        "\n",
        "print('Mengubah kontras dan tingkat kecerahan citra')\n",
        "print('--------------------------------------------')\n",
        "\n",
        "try:\n",
        "  brightness = int(input('Masukkan tingkat kecerahan [-255 - 255]: '))\n",
        "  contras = int(input('Masukkan kontras [1.0 - 3.0]: '))\n",
        "except ValueError:\n",
        "  print('Error, not a number')\n",
        "\n",
        "original = cv.imread('/content/drive/MyDrive/PCVK/female.tiff')\n",
        "transform_image = np.zeros(original.shape, original.dtype)\n",
        "\n",
        "for y in range(original.shape[0]):\n",
        "  for x in range(original.shape[1]):\n",
        "    for c in range(original.shape[2]):\n",
        "      transform_image[y,x,c] = np.clip(contras*original[y,x,c] + brightness, 0, 255)\n",
        "\n",
        "final_frame = cv.hconcat((original, transform_image))\n",
        "cv2_imshow(final_frame)"
      ],
      "metadata": {
        "id": "h0hmBiF73qGd"
      },
      "execution_count": null,
      "outputs": []
    },
    {
      "cell_type": "code",
      "source": [
        "###3\n",
        "\n",
        "import cv2 as cv\n",
        "from google.colab.patches import cv2_imshow\n",
        "from skimage import io\n",
        "import matplotlib.pyplot as plt\n",
        "import numpy as np\n",
        "\n",
        "print('Mengubah tingkat kecerahan citra dengan Transformasi Log')\n",
        "print('--------------------------------------------')\n",
        "\n",
        "try:\n",
        "  brightness = int(input('Masukkan tingkat kecerahan: '))\n",
        "except ValueError:\n",
        "  print('Error, not a number')\n",
        "\n",
        "original = cv.imread('/content/drive/MyDrive/PCVK/female.tiff')\n",
        "transform_image = np.zeros(original.shape, original.dtype)\n",
        "\n",
        "for y in range(original.shape[0]):\n",
        "  for x in range(original.shape[1]):\n",
        "    for c in range(original.shape[2]):\n",
        "      transform_image[y,x,c] = np.clip(brightness*  (np.log(1 + original[y,x,c])),0,255)\n",
        "\n",
        "final_frame = cv.hconcat((original, transform_image))\n",
        "cv2_imshow(final_frame)"
      ],
      "metadata": {
        "id": "2nB832P752nd"
      },
      "execution_count": null,
      "outputs": []
    },
    {
      "cell_type": "code",
      "source": [
        "###4\n",
        "\n",
        "import cv2 as cv\n",
        "from google.colab.patches import cv2_imshow\n",
        "from skimage import io\n",
        "import matplotlib.pyplot as plt\n",
        "import numpy as np\n",
        "\n",
        "img = cv.imread('/content/drive/MyDrive/PCVK/KTP.jpeg')\n",
        "img_rgb = cv.cvtColor(img,cv.COLOR_BGR2RGB)\n",
        "plt.imshow(img_rgb)"
      ],
      "metadata": {
        "id": "1Rb2kHTo_S_L"
      },
      "execution_count": null,
      "outputs": []
    },
    {
      "cell_type": "code",
      "source": [
        "###a. Averaging\n",
        "img_avg = cv.imread('/content/drive/MyDrive/PCVK/KTP.jpeg')\n",
        "img_avg[:] = img_avg.mean(axis=-1, keepdims=1)\n",
        "fig, ax = plt.subplots(1,2)\n",
        "ax[0].imshow(img_rgb)\n",
        "ax[1].imshow(img_avg)\n"
      ],
      "metadata": {
        "id": "ieWC6Fqo-cQU"
      },
      "execution_count": null,
      "outputs": []
    },
    {
      "cell_type": "code",
      "source": [
        "###b. Lightness\n",
        "img_light = cv.imread('/content/drive/MyDrive/PCVK/KTP.jpeg')\n",
        "img_light[:] = np.max(img_light, axis=-1, keepdims=100)/2 + np.min(img_light, axis=-2, keepdims=100)/2\n",
        "fig, ax = plt.subplots(1,2)\n",
        "ax[0].imshow(img_rgb)\n",
        "ax[1].imshow(img_light)"
      ],
      "metadata": {
        "id": "pLG_irld_1UM"
      },
      "execution_count": null,
      "outputs": []
    },
    {
      "cell_type": "code",
      "source": [
        "###c. Luminance\n",
        "img_lum = cv.imread('/content/drive/MyDrive/PCVK/KTP.jpeg')\n",
        "R, G, B = img_lum[: , : , 0], img_lum[: , : , 1], img_lum[: , : , 2]\n",
        "gray_img_lum = (0.21 * R) + (0.72 * G) + (0.07 * B)\n",
        "fig, ax = plt.subplots(1,2)\n",
        "ax[0].imshow(img_rgb)\n",
        "ax[1].imshow(gray_img_lum, cmap = 'gray')"
      ],
      "metadata": {
        "id": "X8MAWbvtAJyD"
      },
      "execution_count": null,
      "outputs": []
    },
    {
      "cell_type": "code",
      "source": [
        "### 5\n",
        "import cv2 as cv\n",
        "from google.colab.patches import cv2_imshow\n",
        "from skimage import io\n",
        "import matplotlib.pyplot as plt\n",
        "import numpy as np\n",
        "\n",
        "img = cv.imread('/content/drive/MyDrive/PCVK/KTP.jpeg')\n",
        "\n",
        "hsv_img = cv.cvtColor(img, cv.COLOR_BGR2HSV)\n",
        "lower_blue = np.array([100, 150, 0])\n",
        "upper_blue = np.array([140, 255, 255])\n",
        "\n",
        "mask = cv.inRange(hsv_img, lower_blue, upper_blue)\n",
        "color_img = cv.bitwise_and(img, img, mask=mask)\n",
        "\n",
        "gray_img = cv.cvtColor(img, cv.COLOR_BGR2GRAY)\n",
        "gray_img = cv.cvtColor(gray_img, cv.COLOR_GRAY2BGR)\n",
        "result_img = cv.bitwise_or(color_img, gray_img)\n",
        "\n",
        "plt.figure(figsize=(10, 10))\n",
        "\n",
        "plt.subplot(1, 2, 1)\n",
        "plt.imshow(cv.cvtColor(img, cv.COLOR_BGR2RGB))\n",
        "plt.title('Original Image')\n",
        "plt.axis('off')\n",
        "\n",
        "plt.subplot(1, 2, 2)\n",
        "plt.imshow(cv.cvtColor(result_img, cv.COLOR_BGR2RGB))\n",
        "plt.title('Result Image')\n",
        "plt.axis('off')\n",
        "\n",
        "plt.show()\n"
      ],
      "metadata": {
        "colab": {
          "base_uri": "https://localhost:8080/",
          "height": 245
        },
        "id": "Zkiojz44J-Kx",
        "outputId": "e84f7233-869e-4dfe-e469-612c0136a0e4"
      },
      "execution_count": 2,
      "outputs": [
        {
          "output_type": "error",
          "ename": "error",
          "evalue": "ignored",
          "traceback": [
            "\u001b[0;31m---------------------------------------------------------------------------\u001b[0m",
            "\u001b[0;31merror\u001b[0m                                     Traceback (most recent call last)",
            "\u001b[0;32m<ipython-input-2-2eeba035d745>\u001b[0m in \u001b[0;36m<cell line: 10>\u001b[0;34m()\u001b[0m\n\u001b[1;32m      8\u001b[0m \u001b[0mimg\u001b[0m \u001b[0;34m=\u001b[0m \u001b[0mcv\u001b[0m\u001b[0;34m.\u001b[0m\u001b[0mimread\u001b[0m\u001b[0;34m(\u001b[0m\u001b[0;34m'/content/drive/MyDrive/PCVK/KTP.jpeg'\u001b[0m\u001b[0;34m)\u001b[0m\u001b[0;34m\u001b[0m\u001b[0;34m\u001b[0m\u001b[0m\n\u001b[1;32m      9\u001b[0m \u001b[0;34m\u001b[0m\u001b[0m\n\u001b[0;32m---> 10\u001b[0;31m \u001b[0mhsv_img\u001b[0m \u001b[0;34m=\u001b[0m \u001b[0mcv\u001b[0m\u001b[0;34m.\u001b[0m\u001b[0mcvtColor\u001b[0m\u001b[0;34m(\u001b[0m\u001b[0mimg\u001b[0m\u001b[0;34m,\u001b[0m \u001b[0mcv\u001b[0m\u001b[0;34m.\u001b[0m\u001b[0mCOLOR_BGR2HSV\u001b[0m\u001b[0;34m)\u001b[0m\u001b[0;34m\u001b[0m\u001b[0;34m\u001b[0m\u001b[0m\n\u001b[0m\u001b[1;32m     11\u001b[0m \u001b[0mlower_blue\u001b[0m \u001b[0;34m=\u001b[0m \u001b[0mnp\u001b[0m\u001b[0;34m.\u001b[0m\u001b[0marray\u001b[0m\u001b[0;34m(\u001b[0m\u001b[0;34m[\u001b[0m\u001b[0;36m100\u001b[0m\u001b[0;34m,\u001b[0m \u001b[0;36m150\u001b[0m\u001b[0;34m,\u001b[0m \u001b[0;36m0\u001b[0m\u001b[0;34m]\u001b[0m\u001b[0;34m)\u001b[0m\u001b[0;34m\u001b[0m\u001b[0;34m\u001b[0m\u001b[0m\n\u001b[1;32m     12\u001b[0m \u001b[0mupper_blue\u001b[0m \u001b[0;34m=\u001b[0m \u001b[0mnp\u001b[0m\u001b[0;34m.\u001b[0m\u001b[0marray\u001b[0m\u001b[0;34m(\u001b[0m\u001b[0;34m[\u001b[0m\u001b[0;36m140\u001b[0m\u001b[0;34m,\u001b[0m \u001b[0;36m255\u001b[0m\u001b[0;34m,\u001b[0m \u001b[0;36m255\u001b[0m\u001b[0;34m]\u001b[0m\u001b[0;34m)\u001b[0m\u001b[0;34m\u001b[0m\u001b[0;34m\u001b[0m\u001b[0m\n",
            "\u001b[0;31merror\u001b[0m: OpenCV(4.8.0) /io/opencv/modules/imgproc/src/color.cpp:182: error: (-215:Assertion failed) !_src.empty() in function 'cvtColor'\n"
          ]
        }
      ]
    }
  ]
}